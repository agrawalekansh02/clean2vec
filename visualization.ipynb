{
 "cells": [
  {
   "cell_type": "markdown",
   "metadata": {},
   "source": [
    "# Data Exploration + Visualizations"
   ]
  },
  {
   "cell_type": "code",
   "execution_count": 32,
   "metadata": {},
   "outputs": [
    {
     "data": {
      "text/plain": [
       "2838"
      ]
     },
     "execution_count": 32,
     "metadata": {},
     "output_type": "execute_result"
    }
   ],
   "source": [
    "import matplotlib.pyplot as plt\n",
    "import numpy as np\n",
    "import pandas as pd\n",
    "import collections, re\n",
    "\n",
    "conv_lines = open('data/data_clean.txt', encoding='utf-8', errors='ignore').read().split('\\n')\n",
    "lines = [line for line in conv_lines]\n",
    "len(lines)"
   ]
  },
  {
   "cell_type": "code",
   "execution_count": 43,
   "metadata": {},
   "outputs": [
    {
     "data": {
      "image/png": "[encoded data removed]",
      "text/plain": [
       "<Figure size 864x288 with 1 Axes>"
      ]
     },
     "metadata": {
      "needs_background": "light"
     },
     "output_type": "display_data"
    },
    {
     "name": "stdout",
     "output_type": "stream",
     "text": [
      "   word  count\n",
      "16  the   2259\n",
      "75    a   1528\n",
      "50   to   1280\n",
      "32  and   1138\n",
      "65   of    892\n",
      "              word  count\n",
      "3376    outselling      1\n",
      "3380         picks      1\n",
      "3381         pluck      1\n",
      "3382  deepcleaning      1\n",
      "5993          site      1\n"
     ]
    }
   ],
   "source": [
    "# data attributes\n",
    "all_lines = []\n",
    "for line in lines:\n",
    "    line = line.lower()\n",
    "    line = re.sub(r'[^\\w\\s]','', line) \n",
    "    line = line.split(' ')\n",
    "    if len(line) > 1:\n",
    "        all_lines.extend(line)\n",
    "len(all_lines)\n",
    "\n",
    "counts = collections.Counter(all_lines)\n",
    "plt.figure(figsize=(12,4))\n",
    "plt.plot(sorted(counts.values(), reverse=True))\n",
    "plt.title(\"Word Frequencies\")\n",
    "plt.show()\n",
    "\n",
    "df = pd.DataFrame({\"word\":counts.keys(), \"count\":counts.values()})\n",
    "df = df.sort_values(by=['count'], ascending=False)\n",
    "print(df.head(5))\n",
    "print(df.tail(5))"
   ]
  },
  {
   "cell_type": "code",
   "execution_count": null,
   "metadata": {},
   "outputs": [],
   "source": []
  },
  {
   "cell_type": "code",
   "execution_count": null,
   "metadata": {},
   "outputs": [],
   "source": []
  }
 ],
 "metadata": {
  "interpreter": {
   "hash": "6b5e598761a2ac5bb93299115b047ed6d25e008cb3e4097da7606351e4132c77"
  },
  "kernelspec": {
   "display_name": "Python 3.7.13 ('tf37')",
   "language": "python",
   "name": "python3"
  },
  "language_info": {
   "codemirror_mode": {
    "name": "ipython",
    "version": 3
   },
   "file_extension": ".py",
   "mimetype": "text/x-python",
   "name": "python",
   "nbconvert_exporter": "python",
   "pygments_lexer": "ipython3",
   "version": "3.7.13"
  },
  "orig_nbformat": 4
 },
 "nbformat": 4,
 "nbformat_minor": 2
}
